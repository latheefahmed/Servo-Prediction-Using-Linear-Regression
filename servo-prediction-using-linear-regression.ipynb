{
 "cells": [
  {
   "cell_type": "markdown",
   "id": "068d4024",
   "metadata": {
    "id": "54KjBR_SwvU2",
    "papermill": {
     "duration": 0.015508,
     "end_time": "2023-06-19T18:40:49.109854",
     "exception": false,
     "start_time": "2023-06-19T18:40:49.094346",
     "status": "completed"
    },
    "tags": []
   },
   "source": [
    "**Servo Prediction using Linear Regression**"
   ]
  },
  {
   "cell_type": "markdown",
   "id": "43e71f94",
   "metadata": {
    "id": "j0EHr77PxMqN",
    "papermill": {
     "duration": 0.012812,
     "end_time": "2023-06-19T18:40:49.135931",
     "exception": false,
     "start_time": "2023-06-19T18:40:49.123119",
     "status": "completed"
    },
    "tags": []
   },
   "source": [
    "IMPORT LIBRARY"
   ]
  },
  {
   "cell_type": "code",
   "execution_count": 1,
   "id": "f4b7cf4d",
   "metadata": {
    "execution": {
     "iopub.execute_input": "2023-06-19T18:40:49.164850Z",
     "iopub.status.busy": "2023-06-19T18:40:49.163736Z",
     "iopub.status.idle": "2023-06-19T18:40:49.175138Z",
     "shell.execute_reply": "2023-06-19T18:40:49.173939Z"
    },
    "id": "3aXupmuPxRLN",
    "papermill": {
     "duration": 0.028612,
     "end_time": "2023-06-19T18:40:49.177658",
     "exception": false,
     "start_time": "2023-06-19T18:40:49.149046",
     "status": "completed"
    },
    "tags": []
   },
   "outputs": [],
   "source": [
    "import pandas as pd"
   ]
  },
  {
   "cell_type": "code",
   "execution_count": 2,
   "id": "b1f8e020",
   "metadata": {
    "execution": {
     "iopub.execute_input": "2023-06-19T18:40:49.206276Z",
     "iopub.status.busy": "2023-06-19T18:40:49.205862Z",
     "iopub.status.idle": "2023-06-19T18:40:49.210684Z",
     "shell.execute_reply": "2023-06-19T18:40:49.209543Z"
    },
    "id": "hw3yTGuWxYJO",
    "papermill": {
     "duration": 0.022188,
     "end_time": "2023-06-19T18:40:49.213194",
     "exception": false,
     "start_time": "2023-06-19T18:40:49.191006",
     "status": "completed"
    },
    "tags": []
   },
   "outputs": [],
   "source": [
    "import numpy as np"
   ]
  },
  {
   "cell_type": "markdown",
   "id": "adac60a1",
   "metadata": {
    "id": "B--3ln0QxjAm",
    "papermill": {
     "duration": 0.012903,
     "end_time": "2023-06-19T18:40:49.239488",
     "exception": false,
     "start_time": "2023-06-19T18:40:49.226585",
     "status": "completed"
    },
    "tags": []
   },
   "source": [
    "  IMPORT CSV AS DATAFRAME"
   ]
  },
  {
   "cell_type": "code",
   "execution_count": 3,
   "id": "1e4981aa",
   "metadata": {
    "execution": {
     "iopub.execute_input": "2023-06-19T18:40:49.268431Z",
     "iopub.status.busy": "2023-06-19T18:40:49.267620Z",
     "iopub.status.idle": "2023-06-19T18:40:49.717769Z",
     "shell.execute_reply": "2023-06-19T18:40:49.716579Z"
    },
    "id": "VlFs3CPwxlxF",
    "papermill": {
     "duration": 0.468094,
     "end_time": "2023-06-19T18:40:49.720905",
     "exception": false,
     "start_time": "2023-06-19T18:40:49.252811",
     "status": "completed"
    },
    "tags": []
   },
   "outputs": [],
   "source": [
    "df = pd.read_csv(r'https://github.com/YBI-Foundation/Dataset/raw/main/Servo%20Mechanism.csv')"
   ]
  },
  {
   "cell_type": "markdown",
   "id": "362c3f27",
   "metadata": {
    "id": "Y5REHrm0yN7s",
    "papermill": {
     "duration": 0.013545,
     "end_time": "2023-06-19T18:40:49.747826",
     "exception": false,
     "start_time": "2023-06-19T18:40:49.734281",
     "status": "completed"
    },
    "tags": []
   },
   "source": [
    "GET THE FIRST 5 ROWS"
   ]
  },
  {
   "cell_type": "code",
   "execution_count": 4,
   "id": "e314c665",
   "metadata": {
    "execution": {
     "iopub.execute_input": "2023-06-19T18:40:49.777302Z",
     "iopub.status.busy": "2023-06-19T18:40:49.776920Z",
     "iopub.status.idle": "2023-06-19T18:40:49.805493Z",
     "shell.execute_reply": "2023-06-19T18:40:49.804434Z"
    },
    "id": "VL3dnfkJyRCk",
    "outputId": "12f297c9-5bad-4d12-c318-033c021b0662",
    "papermill": {
     "duration": 0.04648,
     "end_time": "2023-06-19T18:40:49.808204",
     "exception": false,
     "start_time": "2023-06-19T18:40:49.761724",
     "status": "completed"
    },
    "tags": []
   },
   "outputs": [
    {
     "data": {
      "text/html": [
       "<div>\n",
       "<style scoped>\n",
       "    .dataframe tbody tr th:only-of-type {\n",
       "        vertical-align: middle;\n",
       "    }\n",
       "\n",
       "    .dataframe tbody tr th {\n",
       "        vertical-align: top;\n",
       "    }\n",
       "\n",
       "    .dataframe thead th {\n",
       "        text-align: right;\n",
       "    }\n",
       "</style>\n",
       "<table border=\"1\" class=\"dataframe\">\n",
       "  <thead>\n",
       "    <tr style=\"text-align: right;\">\n",
       "      <th></th>\n",
       "      <th>Motor</th>\n",
       "      <th>Screw</th>\n",
       "      <th>Pgain</th>\n",
       "      <th>Vgain</th>\n",
       "      <th>Class</th>\n",
       "    </tr>\n",
       "  </thead>\n",
       "  <tbody>\n",
       "    <tr>\n",
       "      <th>0</th>\n",
       "      <td>E</td>\n",
       "      <td>E</td>\n",
       "      <td>5</td>\n",
       "      <td>4</td>\n",
       "      <td>4</td>\n",
       "    </tr>\n",
       "    <tr>\n",
       "      <th>1</th>\n",
       "      <td>B</td>\n",
       "      <td>D</td>\n",
       "      <td>6</td>\n",
       "      <td>5</td>\n",
       "      <td>11</td>\n",
       "    </tr>\n",
       "    <tr>\n",
       "      <th>2</th>\n",
       "      <td>D</td>\n",
       "      <td>D</td>\n",
       "      <td>4</td>\n",
       "      <td>3</td>\n",
       "      <td>6</td>\n",
       "    </tr>\n",
       "    <tr>\n",
       "      <th>3</th>\n",
       "      <td>B</td>\n",
       "      <td>A</td>\n",
       "      <td>3</td>\n",
       "      <td>2</td>\n",
       "      <td>48</td>\n",
       "    </tr>\n",
       "    <tr>\n",
       "      <th>4</th>\n",
       "      <td>D</td>\n",
       "      <td>B</td>\n",
       "      <td>6</td>\n",
       "      <td>5</td>\n",
       "      <td>6</td>\n",
       "    </tr>\n",
       "  </tbody>\n",
       "</table>\n",
       "</div>"
      ],
      "text/plain": [
       "  Motor Screw  Pgain  Vgain  Class\n",
       "0     E     E      5      4      4\n",
       "1     B     D      6      5     11\n",
       "2     D     D      4      3      6\n",
       "3     B     A      3      2     48\n",
       "4     D     B      6      5      6"
      ]
     },
     "execution_count": 4,
     "metadata": {},
     "output_type": "execute_result"
    }
   ],
   "source": [
    "df.head()"
   ]
  },
  {
   "cell_type": "markdown",
   "id": "dbe8b0d1",
   "metadata": {
    "id": "yfHo7EswyY6T",
    "papermill": {
     "duration": 0.013305,
     "end_time": "2023-06-19T18:40:49.835370",
     "exception": false,
     "start_time": "2023-06-19T18:40:49.822065",
     "status": "completed"
    },
    "tags": []
   },
   "source": [
    "GET INFO OF DATAFRAME"
   ]
  },
  {
   "cell_type": "code",
   "execution_count": 5,
   "id": "8457678d",
   "metadata": {
    "execution": {
     "iopub.execute_input": "2023-06-19T18:40:49.864553Z",
     "iopub.status.busy": "2023-06-19T18:40:49.863816Z",
     "iopub.status.idle": "2023-06-19T18:40:49.890757Z",
     "shell.execute_reply": "2023-06-19T18:40:49.889459Z"
    },
    "id": "1LrFXG6rycGC",
    "outputId": "7a792b3b-315a-4686-d697-e09ff126d349",
    "papermill": {
     "duration": 0.044427,
     "end_time": "2023-06-19T18:40:49.893355",
     "exception": false,
     "start_time": "2023-06-19T18:40:49.848928",
     "status": "completed"
    },
    "tags": []
   },
   "outputs": [
    {
     "name": "stdout",
     "output_type": "stream",
     "text": [
      "<class 'pandas.core.frame.DataFrame'>\n",
      "RangeIndex: 167 entries, 0 to 166\n",
      "Data columns (total 5 columns):\n",
      " #   Column  Non-Null Count  Dtype \n",
      "---  ------  --------------  ----- \n",
      " 0   Motor   167 non-null    object\n",
      " 1   Screw   167 non-null    object\n",
      " 2   Pgain   167 non-null    int64 \n",
      " 3   Vgain   167 non-null    int64 \n",
      " 4   Class   167 non-null    int64 \n",
      "dtypes: int64(3), object(2)\n",
      "memory usage: 6.6+ KB\n"
     ]
    }
   ],
   "source": [
    "df.info()"
   ]
  },
  {
   "cell_type": "markdown",
   "id": "a2b2b01a",
   "metadata": {
    "id": "m72_9FSGyjoj",
    "papermill": {
     "duration": 0.01341,
     "end_time": "2023-06-19T18:40:49.920582",
     "exception": false,
     "start_time": "2023-06-19T18:40:49.907172",
     "status": "completed"
    },
    "tags": []
   },
   "source": [
    "GET SUMMARY STATISTICS"
   ]
  },
  {
   "cell_type": "code",
   "execution_count": 6,
   "id": "de7976b8",
   "metadata": {
    "execution": {
     "iopub.execute_input": "2023-06-19T18:40:49.951098Z",
     "iopub.status.busy": "2023-06-19T18:40:49.950727Z",
     "iopub.status.idle": "2023-06-19T18:40:49.974019Z",
     "shell.execute_reply": "2023-06-19T18:40:49.972941Z"
    },
    "id": "MbSlCqCxymOL",
    "outputId": "e7ff09fd-faed-49a3-d6c6-8ff6dbba3113",
    "papermill": {
     "duration": 0.042072,
     "end_time": "2023-06-19T18:40:49.976313",
     "exception": false,
     "start_time": "2023-06-19T18:40:49.934241",
     "status": "completed"
    },
    "tags": []
   },
   "outputs": [
    {
     "data": {
      "text/html": [
       "<div>\n",
       "<style scoped>\n",
       "    .dataframe tbody tr th:only-of-type {\n",
       "        vertical-align: middle;\n",
       "    }\n",
       "\n",
       "    .dataframe tbody tr th {\n",
       "        vertical-align: top;\n",
       "    }\n",
       "\n",
       "    .dataframe thead th {\n",
       "        text-align: right;\n",
       "    }\n",
       "</style>\n",
       "<table border=\"1\" class=\"dataframe\">\n",
       "  <thead>\n",
       "    <tr style=\"text-align: right;\">\n",
       "      <th></th>\n",
       "      <th>Pgain</th>\n",
       "      <th>Vgain</th>\n",
       "      <th>Class</th>\n",
       "    </tr>\n",
       "  </thead>\n",
       "  <tbody>\n",
       "    <tr>\n",
       "      <th>count</th>\n",
       "      <td>167.000000</td>\n",
       "      <td>167.000000</td>\n",
       "      <td>167.000000</td>\n",
       "    </tr>\n",
       "    <tr>\n",
       "      <th>mean</th>\n",
       "      <td>4.155689</td>\n",
       "      <td>2.538922</td>\n",
       "      <td>21.173653</td>\n",
       "    </tr>\n",
       "    <tr>\n",
       "      <th>std</th>\n",
       "      <td>1.017770</td>\n",
       "      <td>1.369850</td>\n",
       "      <td>13.908038</td>\n",
       "    </tr>\n",
       "    <tr>\n",
       "      <th>min</th>\n",
       "      <td>3.000000</td>\n",
       "      <td>1.000000</td>\n",
       "      <td>1.000000</td>\n",
       "    </tr>\n",
       "    <tr>\n",
       "      <th>25%</th>\n",
       "      <td>3.000000</td>\n",
       "      <td>1.000000</td>\n",
       "      <td>10.500000</td>\n",
       "    </tr>\n",
       "    <tr>\n",
       "      <th>50%</th>\n",
       "      <td>4.000000</td>\n",
       "      <td>2.000000</td>\n",
       "      <td>18.000000</td>\n",
       "    </tr>\n",
       "    <tr>\n",
       "      <th>75%</th>\n",
       "      <td>5.000000</td>\n",
       "      <td>4.000000</td>\n",
       "      <td>33.500000</td>\n",
       "    </tr>\n",
       "    <tr>\n",
       "      <th>max</th>\n",
       "      <td>6.000000</td>\n",
       "      <td>5.000000</td>\n",
       "      <td>51.000000</td>\n",
       "    </tr>\n",
       "  </tbody>\n",
       "</table>\n",
       "</div>"
      ],
      "text/plain": [
       "            Pgain       Vgain       Class\n",
       "count  167.000000  167.000000  167.000000\n",
       "mean     4.155689    2.538922   21.173653\n",
       "std      1.017770    1.369850   13.908038\n",
       "min      3.000000    1.000000    1.000000\n",
       "25%      3.000000    1.000000   10.500000\n",
       "50%      4.000000    2.000000   18.000000\n",
       "75%      5.000000    4.000000   33.500000\n",
       "max      6.000000    5.000000   51.000000"
      ]
     },
     "execution_count": 6,
     "metadata": {},
     "output_type": "execute_result"
    }
   ],
   "source": [
    "df.describe()"
   ]
  },
  {
   "cell_type": "markdown",
   "id": "9e69ca3a",
   "metadata": {
    "id": "SrCgyL3Ayqmq",
    "papermill": {
     "duration": 0.013702,
     "end_time": "2023-06-19T18:40:50.004284",
     "exception": false,
     "start_time": "2023-06-19T18:40:49.990582",
     "status": "completed"
    },
    "tags": []
   },
   "source": [
    "GET COLUMN NAMES"
   ]
  },
  {
   "cell_type": "code",
   "execution_count": 7,
   "id": "dd5bbbce",
   "metadata": {
    "execution": {
     "iopub.execute_input": "2023-06-19T18:40:50.034194Z",
     "iopub.status.busy": "2023-06-19T18:40:50.033789Z",
     "iopub.status.idle": "2023-06-19T18:40:50.040575Z",
     "shell.execute_reply": "2023-06-19T18:40:50.039471Z"
    },
    "id": "Ro7MRl53ywd7",
    "outputId": "c4fa5217-489d-4982-fbe5-fd8d12b603cb",
    "papermill": {
     "duration": 0.02468,
     "end_time": "2023-06-19T18:40:50.043048",
     "exception": false,
     "start_time": "2023-06-19T18:40:50.018368",
     "status": "completed"
    },
    "tags": []
   },
   "outputs": [
    {
     "data": {
      "text/plain": [
       "Index(['Motor', 'Screw', 'Pgain', 'Vgain', 'Class'], dtype='object')"
      ]
     },
     "execution_count": 7,
     "metadata": {},
     "output_type": "execute_result"
    }
   ],
   "source": [
    "df.columns"
   ]
  },
  {
   "cell_type": "markdown",
   "id": "3fa0ac8f",
   "metadata": {
    "id": "RLlUxvm5y2Wz",
    "papermill": {
     "duration": 0.014073,
     "end_time": "2023-06-19T18:40:50.071557",
     "exception": false,
     "start_time": "2023-06-19T18:40:50.057484",
     "status": "completed"
    },
    "tags": []
   },
   "source": [
    "GET SHAPE OF DATAFRAME"
   ]
  },
  {
   "cell_type": "code",
   "execution_count": 8,
   "id": "eea1d759",
   "metadata": {
    "execution": {
     "iopub.execute_input": "2023-06-19T18:40:50.102523Z",
     "iopub.status.busy": "2023-06-19T18:40:50.102092Z",
     "iopub.status.idle": "2023-06-19T18:40:50.108626Z",
     "shell.execute_reply": "2023-06-19T18:40:50.107603Z"
    },
    "id": "emQeXKB-y7Ii",
    "outputId": "00087cef-85a4-43ef-a02a-0ad76f5ddca5",
    "papermill": {
     "duration": 0.025039,
     "end_time": "2023-06-19T18:40:50.110995",
     "exception": false,
     "start_time": "2023-06-19T18:40:50.085956",
     "status": "completed"
    },
    "tags": []
   },
   "outputs": [
    {
     "data": {
      "text/plain": [
       "(167, 5)"
      ]
     },
     "execution_count": 8,
     "metadata": {},
     "output_type": "execute_result"
    }
   ],
   "source": [
    "df.shape"
   ]
  },
  {
   "cell_type": "markdown",
   "id": "16e224bb",
   "metadata": {
    "id": "UY6ACQBmzBp5",
    "papermill": {
     "duration": 0.014175,
     "end_time": "2023-06-19T18:40:50.140009",
     "exception": false,
     "start_time": "2023-06-19T18:40:50.125834",
     "status": "completed"
    },
    "tags": []
   },
   "source": [
    "GET CATEGORIES AND COUNTS OF CATEGORICAL VARIABLES"
   ]
  },
  {
   "cell_type": "code",
   "execution_count": 9,
   "id": "76cc8aeb",
   "metadata": {
    "execution": {
     "iopub.execute_input": "2023-06-19T18:40:50.170935Z",
     "iopub.status.busy": "2023-06-19T18:40:50.170521Z",
     "iopub.status.idle": "2023-06-19T18:40:50.182894Z",
     "shell.execute_reply": "2023-06-19T18:40:50.181882Z"
    },
    "id": "pdvZoQITzLxR",
    "outputId": "757534ab-9c27-4cd2-c329-66016363cad3",
    "papermill": {
     "duration": 0.030371,
     "end_time": "2023-06-19T18:40:50.185124",
     "exception": false,
     "start_time": "2023-06-19T18:40:50.154753",
     "status": "completed"
    },
    "tags": []
   },
   "outputs": [
    {
     "data": {
      "text/plain": [
       "Motor\n",
       "C        40\n",
       "A        36\n",
       "B        36\n",
       "E        33\n",
       "D        22\n",
       "dtype: int64"
      ]
     },
     "execution_count": 9,
     "metadata": {},
     "output_type": "execute_result"
    }
   ],
   "source": [
    "df[['Motor']].value_counts()"
   ]
  },
  {
   "cell_type": "code",
   "execution_count": 10,
   "id": "5c36a618",
   "metadata": {
    "execution": {
     "iopub.execute_input": "2023-06-19T18:40:50.216700Z",
     "iopub.status.busy": "2023-06-19T18:40:50.216140Z",
     "iopub.status.idle": "2023-06-19T18:40:50.233247Z",
     "shell.execute_reply": "2023-06-19T18:40:50.231942Z"
    },
    "id": "MDbKME-ozbWB",
    "outputId": "6e78d7cb-86e4-4026-8562-9e7d9bd795fc",
    "papermill": {
     "duration": 0.036578,
     "end_time": "2023-06-19T18:40:50.236554",
     "exception": false,
     "start_time": "2023-06-19T18:40:50.199976",
     "status": "completed"
    },
    "tags": []
   },
   "outputs": [
    {
     "data": {
      "text/plain": [
       "Screw\n",
       "A        42\n",
       "B        35\n",
       "C        31\n",
       "D        30\n",
       "E        29\n",
       "dtype: int64"
      ]
     },
     "execution_count": 10,
     "metadata": {},
     "output_type": "execute_result"
    }
   ],
   "source": [
    "df[['Screw']].value_counts()"
   ]
  },
  {
   "cell_type": "markdown",
   "id": "6fb5db57",
   "metadata": {
    "id": "E9w-fwDjzerx",
    "papermill": {
     "duration": 0.022103,
     "end_time": "2023-06-19T18:40:50.276187",
     "exception": false,
     "start_time": "2023-06-19T18:40:50.254084",
     "status": "completed"
    },
    "tags": []
   },
   "source": [
    "GET ENCODING OF CATEGORICAL FEATURES"
   ]
  },
  {
   "cell_type": "code",
   "execution_count": 11,
   "id": "2d970a83",
   "metadata": {
    "execution": {
     "iopub.execute_input": "2023-06-19T18:40:50.313258Z",
     "iopub.status.busy": "2023-06-19T18:40:50.312857Z",
     "iopub.status.idle": "2023-06-19T18:40:50.320859Z",
     "shell.execute_reply": "2023-06-19T18:40:50.319935Z"
    },
    "id": "xqzcy2IIzklR",
    "papermill": {
     "duration": 0.027009,
     "end_time": "2023-06-19T18:40:50.323152",
     "exception": false,
     "start_time": "2023-06-19T18:40:50.296143",
     "status": "completed"
    },
    "tags": []
   },
   "outputs": [],
   "source": [
    "df.replace({'Motor':{'A':0,'B':1,'C':2,'D':3,'E':4}},inplace=True)"
   ]
  },
  {
   "cell_type": "code",
   "execution_count": 12,
   "id": "d67a735a",
   "metadata": {
    "execution": {
     "iopub.execute_input": "2023-06-19T18:40:50.356538Z",
     "iopub.status.busy": "2023-06-19T18:40:50.355327Z",
     "iopub.status.idle": "2023-06-19T18:40:50.363054Z",
     "shell.execute_reply": "2023-06-19T18:40:50.362259Z"
    },
    "id": "PYtYvZpb0ISQ",
    "papermill": {
     "duration": 0.02656,
     "end_time": "2023-06-19T18:40:50.365400",
     "exception": false,
     "start_time": "2023-06-19T18:40:50.338840",
     "status": "completed"
    },
    "tags": []
   },
   "outputs": [],
   "source": [
    "df.replace({'Screw':{'A':0,'B':1,'C':2,'D':3,'E':4}},inplace=True)"
   ]
  },
  {
   "cell_type": "markdown",
   "id": "b428c13a",
   "metadata": {
    "id": "sIavK2Ai0Qgn",
    "papermill": {
     "duration": 0.01682,
     "end_time": "2023-06-19T18:40:50.401452",
     "exception": false,
     "start_time": "2023-06-19T18:40:50.384632",
     "status": "completed"
    },
    "tags": []
   },
   "source": [
    "DEFINE y(DEPENDENT VARIABLE) AND X(INDEPENDENT VARIABLE)"
   ]
  },
  {
   "cell_type": "code",
   "execution_count": 13,
   "id": "00b307ed",
   "metadata": {
    "execution": {
     "iopub.execute_input": "2023-06-19T18:40:50.435288Z",
     "iopub.status.busy": "2023-06-19T18:40:50.434408Z",
     "iopub.status.idle": "2023-06-19T18:40:50.440006Z",
     "shell.execute_reply": "2023-06-19T18:40:50.438783Z"
    },
    "id": "4RJpIK_z0cJo",
    "papermill": {
     "duration": 0.025359,
     "end_time": "2023-06-19T18:40:50.442329",
     "exception": false,
     "start_time": "2023-06-19T18:40:50.416970",
     "status": "completed"
    },
    "tags": []
   },
   "outputs": [],
   "source": [
    "y = df['Class']"
   ]
  },
  {
   "cell_type": "code",
   "execution_count": 14,
   "id": "a22a7f4c",
   "metadata": {
    "execution": {
     "iopub.execute_input": "2023-06-19T18:40:50.477032Z",
     "iopub.status.busy": "2023-06-19T18:40:50.476061Z",
     "iopub.status.idle": "2023-06-19T18:40:50.483172Z",
     "shell.execute_reply": "2023-06-19T18:40:50.482227Z"
    },
    "id": "2MCEharn0nev",
    "outputId": "c46d68ec-297b-4ecf-834f-c31d7f86f72b",
    "papermill": {
     "duration": 0.027686,
     "end_time": "2023-06-19T18:40:50.485574",
     "exception": false,
     "start_time": "2023-06-19T18:40:50.457888",
     "status": "completed"
    },
    "tags": []
   },
   "outputs": [
    {
     "data": {
      "text/plain": [
       "(167,)"
      ]
     },
     "execution_count": 14,
     "metadata": {},
     "output_type": "execute_result"
    }
   ],
   "source": [
    "y.shape"
   ]
  },
  {
   "cell_type": "code",
   "execution_count": 15,
   "id": "48b958ab",
   "metadata": {
    "execution": {
     "iopub.execute_input": "2023-06-19T18:40:50.520539Z",
     "iopub.status.busy": "2023-06-19T18:40:50.519646Z",
     "iopub.status.idle": "2023-06-19T18:40:50.533637Z",
     "shell.execute_reply": "2023-06-19T18:40:50.532517Z"
    },
    "id": "YR0fjFkQ0qqn",
    "outputId": "39fac40e-949f-4004-cc20-e4343c330840",
    "papermill": {
     "duration": 0.035745,
     "end_time": "2023-06-19T18:40:50.538182",
     "exception": false,
     "start_time": "2023-06-19T18:40:50.502437",
     "status": "completed"
    },
    "tags": []
   },
   "outputs": [
    {
     "data": {
      "text/plain": [
       "0       4\n",
       "1      11\n",
       "2       6\n",
       "3      48\n",
       "4       6\n",
       "       ..\n",
       "162    44\n",
       "163    40\n",
       "164    25\n",
       "165    44\n",
       "166    20\n",
       "Name: Class, Length: 167, dtype: int64"
      ]
     },
     "execution_count": 15,
     "metadata": {},
     "output_type": "execute_result"
    }
   ],
   "source": [
    "y"
   ]
  },
  {
   "cell_type": "code",
   "execution_count": 16,
   "id": "65e29909",
   "metadata": {
    "execution": {
     "iopub.execute_input": "2023-06-19T18:40:50.572897Z",
     "iopub.status.busy": "2023-06-19T18:40:50.571860Z",
     "iopub.status.idle": "2023-06-19T18:40:50.580629Z",
     "shell.execute_reply": "2023-06-19T18:40:50.579594Z"
    },
    "id": "ZzkAGvxs0wg_",
    "papermill": {
     "duration": 0.028545,
     "end_time": "2023-06-19T18:40:50.583113",
     "exception": false,
     "start_time": "2023-06-19T18:40:50.554568",
     "status": "completed"
    },
    "tags": []
   },
   "outputs": [],
   "source": [
    "X = df[['Motor','Screw','Pgain','Vgain']]"
   ]
  },
  {
   "cell_type": "code",
   "execution_count": 17,
   "id": "bbf4dc23",
   "metadata": {
    "execution": {
     "iopub.execute_input": "2023-06-19T18:40:50.617334Z",
     "iopub.status.busy": "2023-06-19T18:40:50.616239Z",
     "iopub.status.idle": "2023-06-19T18:40:50.624212Z",
     "shell.execute_reply": "2023-06-19T18:40:50.622290Z"
    },
    "id": "I9CgOtVi1Gq2",
    "outputId": "3c5faa02-4110-41ed-eaa2-79e3449bd39f",
    "papermill": {
     "duration": 0.027827,
     "end_time": "2023-06-19T18:40:50.626823",
     "exception": false,
     "start_time": "2023-06-19T18:40:50.598996",
     "status": "completed"
    },
    "tags": []
   },
   "outputs": [
    {
     "data": {
      "text/plain": [
       "(167, 4)"
      ]
     },
     "execution_count": 17,
     "metadata": {},
     "output_type": "execute_result"
    }
   ],
   "source": [
    "X.shape"
   ]
  },
  {
   "cell_type": "code",
   "execution_count": 18,
   "id": "651184e8",
   "metadata": {
    "execution": {
     "iopub.execute_input": "2023-06-19T18:40:50.665605Z",
     "iopub.status.busy": "2023-06-19T18:40:50.664434Z",
     "iopub.status.idle": "2023-06-19T18:40:50.678576Z",
     "shell.execute_reply": "2023-06-19T18:40:50.677432Z"
    },
    "id": "A1TGOTeH1KRu",
    "outputId": "7b191c49-00ac-4fcf-de1c-e3d31b475446",
    "papermill": {
     "duration": 0.035416,
     "end_time": "2023-06-19T18:40:50.681004",
     "exception": false,
     "start_time": "2023-06-19T18:40:50.645588",
     "status": "completed"
    },
    "tags": []
   },
   "outputs": [
    {
     "data": {
      "text/html": [
       "<div>\n",
       "<style scoped>\n",
       "    .dataframe tbody tr th:only-of-type {\n",
       "        vertical-align: middle;\n",
       "    }\n",
       "\n",
       "    .dataframe tbody tr th {\n",
       "        vertical-align: top;\n",
       "    }\n",
       "\n",
       "    .dataframe thead th {\n",
       "        text-align: right;\n",
       "    }\n",
       "</style>\n",
       "<table border=\"1\" class=\"dataframe\">\n",
       "  <thead>\n",
       "    <tr style=\"text-align: right;\">\n",
       "      <th></th>\n",
       "      <th>Motor</th>\n",
       "      <th>Screw</th>\n",
       "      <th>Pgain</th>\n",
       "      <th>Vgain</th>\n",
       "    </tr>\n",
       "  </thead>\n",
       "  <tbody>\n",
       "    <tr>\n",
       "      <th>0</th>\n",
       "      <td>4</td>\n",
       "      <td>4</td>\n",
       "      <td>5</td>\n",
       "      <td>4</td>\n",
       "    </tr>\n",
       "    <tr>\n",
       "      <th>1</th>\n",
       "      <td>1</td>\n",
       "      <td>3</td>\n",
       "      <td>6</td>\n",
       "      <td>5</td>\n",
       "    </tr>\n",
       "    <tr>\n",
       "      <th>2</th>\n",
       "      <td>3</td>\n",
       "      <td>3</td>\n",
       "      <td>4</td>\n",
       "      <td>3</td>\n",
       "    </tr>\n",
       "    <tr>\n",
       "      <th>3</th>\n",
       "      <td>1</td>\n",
       "      <td>0</td>\n",
       "      <td>3</td>\n",
       "      <td>2</td>\n",
       "    </tr>\n",
       "    <tr>\n",
       "      <th>4</th>\n",
       "      <td>3</td>\n",
       "      <td>1</td>\n",
       "      <td>6</td>\n",
       "      <td>5</td>\n",
       "    </tr>\n",
       "    <tr>\n",
       "      <th>...</th>\n",
       "      <td>...</td>\n",
       "      <td>...</td>\n",
       "      <td>...</td>\n",
       "      <td>...</td>\n",
       "    </tr>\n",
       "    <tr>\n",
       "      <th>162</th>\n",
       "      <td>1</td>\n",
       "      <td>2</td>\n",
       "      <td>3</td>\n",
       "      <td>2</td>\n",
       "    </tr>\n",
       "    <tr>\n",
       "      <th>163</th>\n",
       "      <td>1</td>\n",
       "      <td>4</td>\n",
       "      <td>3</td>\n",
       "      <td>1</td>\n",
       "    </tr>\n",
       "    <tr>\n",
       "      <th>164</th>\n",
       "      <td>2</td>\n",
       "      <td>3</td>\n",
       "      <td>4</td>\n",
       "      <td>3</td>\n",
       "    </tr>\n",
       "    <tr>\n",
       "      <th>165</th>\n",
       "      <td>0</td>\n",
       "      <td>1</td>\n",
       "      <td>3</td>\n",
       "      <td>2</td>\n",
       "    </tr>\n",
       "    <tr>\n",
       "      <th>166</th>\n",
       "      <td>0</td>\n",
       "      <td>0</td>\n",
       "      <td>6</td>\n",
       "      <td>5</td>\n",
       "    </tr>\n",
       "  </tbody>\n",
       "</table>\n",
       "<p>167 rows × 4 columns</p>\n",
       "</div>"
      ],
      "text/plain": [
       "     Motor  Screw  Pgain  Vgain\n",
       "0        4      4      5      4\n",
       "1        1      3      6      5\n",
       "2        3      3      4      3\n",
       "3        1      0      3      2\n",
       "4        3      1      6      5\n",
       "..     ...    ...    ...    ...\n",
       "162      1      2      3      2\n",
       "163      1      4      3      1\n",
       "164      2      3      4      3\n",
       "165      0      1      3      2\n",
       "166      0      0      6      5\n",
       "\n",
       "[167 rows x 4 columns]"
      ]
     },
     "execution_count": 18,
     "metadata": {},
     "output_type": "execute_result"
    }
   ],
   "source": [
    "X"
   ]
  },
  {
   "cell_type": "markdown",
   "id": "e3e22d94",
   "metadata": {
    "id": "CFo15cef1S1F",
    "papermill": {
     "duration": 0.015938,
     "end_time": "2023-06-19T18:40:50.713448",
     "exception": false,
     "start_time": "2023-06-19T18:40:50.697510",
     "status": "completed"
    },
    "tags": []
   },
   "source": [
    "GET TRAIN TEST SPLIT"
   ]
  },
  {
   "cell_type": "code",
   "execution_count": 19,
   "id": "982fa7bd",
   "metadata": {
    "execution": {
     "iopub.execute_input": "2023-06-19T18:40:50.749001Z",
     "iopub.status.busy": "2023-06-19T18:40:50.748229Z",
     "iopub.status.idle": "2023-06-19T18:40:52.102016Z",
     "shell.execute_reply": "2023-06-19T18:40:52.100959Z"
    },
    "id": "M2K-FDJk1XAu",
    "papermill": {
     "duration": 1.375023,
     "end_time": "2023-06-19T18:40:52.104787",
     "exception": false,
     "start_time": "2023-06-19T18:40:50.729764",
     "status": "completed"
    },
    "tags": []
   },
   "outputs": [],
   "source": [
    "from sklearn.model_selection import train_test_split"
   ]
  },
  {
   "cell_type": "code",
   "execution_count": 20,
   "id": "308e6c35",
   "metadata": {
    "execution": {
     "iopub.execute_input": "2023-06-19T18:40:52.140359Z",
     "iopub.status.busy": "2023-06-19T18:40:52.139504Z",
     "iopub.status.idle": "2023-06-19T18:40:52.146609Z",
     "shell.execute_reply": "2023-06-19T18:40:52.145724Z"
    },
    "id": "kObNp88Z1l1G",
    "papermill": {
     "duration": 0.02699,
     "end_time": "2023-06-19T18:40:52.148632",
     "exception": false,
     "start_time": "2023-06-19T18:40:52.121642",
     "status": "completed"
    },
    "tags": []
   },
   "outputs": [],
   "source": [
    "X_train, X_test, y_train , y_test = train_test_split(X,y, test_size=0.3, random_state=2529)"
   ]
  },
  {
   "cell_type": "code",
   "execution_count": 21,
   "id": "ff45213d",
   "metadata": {
    "execution": {
     "iopub.execute_input": "2023-06-19T18:40:52.183682Z",
     "iopub.status.busy": "2023-06-19T18:40:52.182981Z",
     "iopub.status.idle": "2023-06-19T18:40:52.190263Z",
     "shell.execute_reply": "2023-06-19T18:40:52.189189Z"
    },
    "id": "Re3eXqtG2FZV",
    "outputId": "5b44a9b7-7778-46eb-f94f-e1a049157266",
    "papermill": {
     "duration": 0.027462,
     "end_time": "2023-06-19T18:40:52.192649",
     "exception": false,
     "start_time": "2023-06-19T18:40:52.165187",
     "status": "completed"
    },
    "tags": []
   },
   "outputs": [
    {
     "data": {
      "text/plain": [
       "((116, 4), (51, 4), (116,), (51,))"
      ]
     },
     "execution_count": 21,
     "metadata": {},
     "output_type": "execute_result"
    }
   ],
   "source": [
    "X_train.shape, X_test.shape, y_train.shape , y_test.shape"
   ]
  },
  {
   "cell_type": "markdown",
   "id": "24543ad1",
   "metadata": {
    "id": "ePB1mFNM2Xyt",
    "papermill": {
     "duration": 0.01632,
     "end_time": "2023-06-19T18:40:52.225614",
     "exception": false,
     "start_time": "2023-06-19T18:40:52.209294",
     "status": "completed"
    },
    "tags": []
   },
   "source": [
    "GET MODEL TRAIN"
   ]
  },
  {
   "cell_type": "code",
   "execution_count": 22,
   "id": "1d6726e1",
   "metadata": {
    "execution": {
     "iopub.execute_input": "2023-06-19T18:40:52.260395Z",
     "iopub.status.busy": "2023-06-19T18:40:52.259991Z",
     "iopub.status.idle": "2023-06-19T18:40:52.347141Z",
     "shell.execute_reply": "2023-06-19T18:40:52.346170Z"
    },
    "id": "3VwSte-t2Z99",
    "papermill": {
     "duration": 0.107556,
     "end_time": "2023-06-19T18:40:52.349740",
     "exception": false,
     "start_time": "2023-06-19T18:40:52.242184",
     "status": "completed"
    },
    "tags": []
   },
   "outputs": [],
   "source": [
    "from sklearn.linear_model import LinearRegression"
   ]
  },
  {
   "cell_type": "code",
   "execution_count": 23,
   "id": "8d5d08c4",
   "metadata": {
    "execution": {
     "iopub.execute_input": "2023-06-19T18:40:52.385045Z",
     "iopub.status.busy": "2023-06-19T18:40:52.384642Z",
     "iopub.status.idle": "2023-06-19T18:40:52.389327Z",
     "shell.execute_reply": "2023-06-19T18:40:52.388308Z"
    },
    "id": "cxmH8MIv2m00",
    "papermill": {
     "duration": 0.025244,
     "end_time": "2023-06-19T18:40:52.391793",
     "exception": false,
     "start_time": "2023-06-19T18:40:52.366549",
     "status": "completed"
    },
    "tags": []
   },
   "outputs": [],
   "source": [
    "lr = LinearRegression()"
   ]
  },
  {
   "cell_type": "code",
   "execution_count": 24,
   "id": "e6cebf29",
   "metadata": {
    "execution": {
     "iopub.execute_input": "2023-06-19T18:40:52.427550Z",
     "iopub.status.busy": "2023-06-19T18:40:52.427134Z",
     "iopub.status.idle": "2023-06-19T18:40:52.459366Z",
     "shell.execute_reply": "2023-06-19T18:40:52.458592Z"
    },
    "id": "u0m_aIeF2snc",
    "outputId": "e3031dec-2d9f-4c81-c4a6-abb96b35c90a",
    "papermill": {
     "duration": 0.052749,
     "end_time": "2023-06-19T18:40:52.461504",
     "exception": false,
     "start_time": "2023-06-19T18:40:52.408755",
     "status": "completed"
    },
    "tags": []
   },
   "outputs": [
    {
     "data": {
      "text/html": [
       "<style>#sk-container-id-1 {color: black;background-color: white;}#sk-container-id-1 pre{padding: 0;}#sk-container-id-1 div.sk-toggleable {background-color: white;}#sk-container-id-1 label.sk-toggleable__label {cursor: pointer;display: block;width: 100%;margin-bottom: 0;padding: 0.3em;box-sizing: border-box;text-align: center;}#sk-container-id-1 label.sk-toggleable__label-arrow:before {content: \"▸\";float: left;margin-right: 0.25em;color: #696969;}#sk-container-id-1 label.sk-toggleable__label-arrow:hover:before {color: black;}#sk-container-id-1 div.sk-estimator:hover label.sk-toggleable__label-arrow:before {color: black;}#sk-container-id-1 div.sk-toggleable__content {max-height: 0;max-width: 0;overflow: hidden;text-align: left;background-color: #f0f8ff;}#sk-container-id-1 div.sk-toggleable__content pre {margin: 0.2em;color: black;border-radius: 0.25em;background-color: #f0f8ff;}#sk-container-id-1 input.sk-toggleable__control:checked~div.sk-toggleable__content {max-height: 200px;max-width: 100%;overflow: auto;}#sk-container-id-1 input.sk-toggleable__control:checked~label.sk-toggleable__label-arrow:before {content: \"▾\";}#sk-container-id-1 div.sk-estimator input.sk-toggleable__control:checked~label.sk-toggleable__label {background-color: #d4ebff;}#sk-container-id-1 div.sk-label input.sk-toggleable__control:checked~label.sk-toggleable__label {background-color: #d4ebff;}#sk-container-id-1 input.sk-hidden--visually {border: 0;clip: rect(1px 1px 1px 1px);clip: rect(1px, 1px, 1px, 1px);height: 1px;margin: -1px;overflow: hidden;padding: 0;position: absolute;width: 1px;}#sk-container-id-1 div.sk-estimator {font-family: monospace;background-color: #f0f8ff;border: 1px dotted black;border-radius: 0.25em;box-sizing: border-box;margin-bottom: 0.5em;}#sk-container-id-1 div.sk-estimator:hover {background-color: #d4ebff;}#sk-container-id-1 div.sk-parallel-item::after {content: \"\";width: 100%;border-bottom: 1px solid gray;flex-grow: 1;}#sk-container-id-1 div.sk-label:hover label.sk-toggleable__label {background-color: #d4ebff;}#sk-container-id-1 div.sk-serial::before {content: \"\";position: absolute;border-left: 1px solid gray;box-sizing: border-box;top: 0;bottom: 0;left: 50%;z-index: 0;}#sk-container-id-1 div.sk-serial {display: flex;flex-direction: column;align-items: center;background-color: white;padding-right: 0.2em;padding-left: 0.2em;position: relative;}#sk-container-id-1 div.sk-item {position: relative;z-index: 1;}#sk-container-id-1 div.sk-parallel {display: flex;align-items: stretch;justify-content: center;background-color: white;position: relative;}#sk-container-id-1 div.sk-item::before, #sk-container-id-1 div.sk-parallel-item::before {content: \"\";position: absolute;border-left: 1px solid gray;box-sizing: border-box;top: 0;bottom: 0;left: 50%;z-index: -1;}#sk-container-id-1 div.sk-parallel-item {display: flex;flex-direction: column;z-index: 1;position: relative;background-color: white;}#sk-container-id-1 div.sk-parallel-item:first-child::after {align-self: flex-end;width: 50%;}#sk-container-id-1 div.sk-parallel-item:last-child::after {align-self: flex-start;width: 50%;}#sk-container-id-1 div.sk-parallel-item:only-child::after {width: 0;}#sk-container-id-1 div.sk-dashed-wrapped {border: 1px dashed gray;margin: 0 0.4em 0.5em 0.4em;box-sizing: border-box;padding-bottom: 0.4em;background-color: white;}#sk-container-id-1 div.sk-label label {font-family: monospace;font-weight: bold;display: inline-block;line-height: 1.2em;}#sk-container-id-1 div.sk-label-container {text-align: center;}#sk-container-id-1 div.sk-container {/* jupyter's `normalize.less` sets `[hidden] { display: none; }` but bootstrap.min.css set `[hidden] { display: none !important; }` so we also need the `!important` here to be able to override the default hidden behavior on the sphinx rendered scikit-learn.org. See: https://github.com/scikit-learn/scikit-learn/issues/21755 */display: inline-block !important;position: relative;}#sk-container-id-1 div.sk-text-repr-fallback {display: none;}</style><div id=\"sk-container-id-1\" class=\"sk-top-container\"><div class=\"sk-text-repr-fallback\"><pre>LinearRegression()</pre><b>In a Jupyter environment, please rerun this cell to show the HTML representation or trust the notebook. <br />On GitHub, the HTML representation is unable to render, please try loading this page with nbviewer.org.</b></div><div class=\"sk-container\" hidden><div class=\"sk-item\"><div class=\"sk-estimator sk-toggleable\"><input class=\"sk-toggleable__control sk-hidden--visually\" id=\"sk-estimator-id-1\" type=\"checkbox\" checked><label for=\"sk-estimator-id-1\" class=\"sk-toggleable__label sk-toggleable__label-arrow\">LinearRegression</label><div class=\"sk-toggleable__content\"><pre>LinearRegression()</pre></div></div></div></div></div>"
      ],
      "text/plain": [
       "LinearRegression()"
      ]
     },
     "execution_count": 24,
     "metadata": {},
     "output_type": "execute_result"
    }
   ],
   "source": [
    "lr.fit(X_train,y_train)"
   ]
  },
  {
   "cell_type": "markdown",
   "id": "79c2564d",
   "metadata": {
    "id": "bvh6-F1J2_9D",
    "papermill": {
     "duration": 0.017013,
     "end_time": "2023-06-19T18:40:52.496123",
     "exception": false,
     "start_time": "2023-06-19T18:40:52.479110",
     "status": "completed"
    },
    "tags": []
   },
   "source": [
    "GET MODEL PREDICTION"
   ]
  },
  {
   "cell_type": "code",
   "execution_count": 25,
   "id": "b7873b1b",
   "metadata": {
    "execution": {
     "iopub.execute_input": "2023-06-19T18:40:52.532806Z",
     "iopub.status.busy": "2023-06-19T18:40:52.532249Z",
     "iopub.status.idle": "2023-06-19T18:40:52.539251Z",
     "shell.execute_reply": "2023-06-19T18:40:52.538168Z"
    },
    "id": "Q1vMikhz2-I0",
    "papermill": {
     "duration": 0.028559,
     "end_time": "2023-06-19T18:40:52.541756",
     "exception": false,
     "start_time": "2023-06-19T18:40:52.513197",
     "status": "completed"
    },
    "tags": []
   },
   "outputs": [],
   "source": [
    "y_pred = lr.predict(X_test)"
   ]
  },
  {
   "cell_type": "code",
   "execution_count": 26,
   "id": "7e459216",
   "metadata": {
    "execution": {
     "iopub.execute_input": "2023-06-19T18:40:52.578241Z",
     "iopub.status.busy": "2023-06-19T18:40:52.577473Z",
     "iopub.status.idle": "2023-06-19T18:40:52.584665Z",
     "shell.execute_reply": "2023-06-19T18:40:52.583320Z"
    },
    "id": "kzUVOxNr3RGr",
    "outputId": "96af2b98-0d6c-462a-92fe-2b9de32b4023",
    "papermill": {
     "duration": 0.02801,
     "end_time": "2023-06-19T18:40:52.586971",
     "exception": false,
     "start_time": "2023-06-19T18:40:52.558961",
     "status": "completed"
    },
    "tags": []
   },
   "outputs": [
    {
     "data": {
      "text/plain": [
       "(51,)"
      ]
     },
     "execution_count": 26,
     "metadata": {},
     "output_type": "execute_result"
    }
   ],
   "source": [
    "y_pred.shape"
   ]
  },
  {
   "cell_type": "code",
   "execution_count": 27,
   "id": "c67081ee",
   "metadata": {
    "execution": {
     "iopub.execute_input": "2023-06-19T18:40:52.624458Z",
     "iopub.status.busy": "2023-06-19T18:40:52.623316Z",
     "iopub.status.idle": "2023-06-19T18:40:52.630956Z",
     "shell.execute_reply": "2023-06-19T18:40:52.629935Z"
    },
    "id": "Y005JW-T3WVj",
    "outputId": "e3df8f6a-3393-47d4-a08f-fefa82342975",
    "papermill": {
     "duration": 0.028706,
     "end_time": "2023-06-19T18:40:52.633215",
     "exception": false,
     "start_time": "2023-06-19T18:40:52.604509",
     "status": "completed"
    },
    "tags": []
   },
   "outputs": [
    {
     "data": {
      "text/plain": [
       "array([24.55945258, 30.98765106, 18.54485477, 25.51524243, 38.56082023,\n",
       "       23.52007775, 11.61947065, 20.03335614, 40.60404401, 41.7009556 ,\n",
       "       13.66269443, 26.01242807, 16.50163099, 16.54663453, 21.92598051,\n",
       "       22.52570646, -5.46449561, 30.68912392, 32.7323477 ,  1.41282941,\n",
       "       33.97718702, 31.63543611, 33.52806048, 30.04133887, 19.38557109,\n",
       "        6.49364826, 28.5528375 , 17.04382017, 25.06611589,  3.50411229,\n",
       "       30.59606128, 23.67067716, 35.72188367, 32.08456265, 12.46018697,\n",
       "        3.6547117 , 23.47201865, 33.03087484, 17.49294672, 37.61450804,\n",
       "       27.54898855, 22.07657992, 11.51387478,  9.470651  , 30.53852451,\n",
       "       28.64590014, 33.67865989,  4.60102388, 24.1198037 , 21.13026773,\n",
       "       25.71390094])"
      ]
     },
     "execution_count": 27,
     "metadata": {},
     "output_type": "execute_result"
    }
   ],
   "source": [
    "y_pred"
   ]
  },
  {
   "cell_type": "markdown",
   "id": "95167727",
   "metadata": {
    "id": "EjoKlWoB3eNC",
    "papermill": {
     "duration": 0.017695,
     "end_time": "2023-06-19T18:40:52.669012",
     "exception": false,
     "start_time": "2023-06-19T18:40:52.651317",
     "status": "completed"
    },
    "tags": []
   },
   "source": [
    "GET MODEL EVALUATION"
   ]
  },
  {
   "cell_type": "code",
   "execution_count": 28,
   "id": "8733a101",
   "metadata": {
    "execution": {
     "iopub.execute_input": "2023-06-19T18:40:52.705811Z",
     "iopub.status.busy": "2023-06-19T18:40:52.705396Z",
     "iopub.status.idle": "2023-06-19T18:40:52.710063Z",
     "shell.execute_reply": "2023-06-19T18:40:52.709134Z"
    },
    "id": "Cr3HVqH03hqU",
    "papermill": {
     "duration": 0.025588,
     "end_time": "2023-06-19T18:40:52.712107",
     "exception": false,
     "start_time": "2023-06-19T18:40:52.686519",
     "status": "completed"
    },
    "tags": []
   },
   "outputs": [],
   "source": [
    "from sklearn.metrics import mean_squared_error, mean_absolute_error, r2_score"
   ]
  },
  {
   "cell_type": "code",
   "execution_count": 29,
   "id": "34096c60",
   "metadata": {
    "execution": {
     "iopub.execute_input": "2023-06-19T18:40:52.749278Z",
     "iopub.status.busy": "2023-06-19T18:40:52.748880Z",
     "iopub.status.idle": "2023-06-19T18:40:52.755994Z",
     "shell.execute_reply": "2023-06-19T18:40:52.755022Z"
    },
    "id": "0CJ6Q-UC3xoz",
    "outputId": "6ca9f350-207d-4c64-d68d-4044b89c91bf",
    "papermill": {
     "duration": 0.028224,
     "end_time": "2023-06-19T18:40:52.758076",
     "exception": false,
     "start_time": "2023-06-19T18:40:52.729852",
     "status": "completed"
    },
    "tags": []
   },
   "outputs": [
    {
     "data": {
      "text/plain": [
       "66.03589175595563"
      ]
     },
     "execution_count": 29,
     "metadata": {},
     "output_type": "execute_result"
    }
   ],
   "source": [
    "mean_squared_error(y_test,y_pred)"
   ]
  },
  {
   "cell_type": "code",
   "execution_count": 30,
   "id": "923bd36e",
   "metadata": {
    "execution": {
     "iopub.execute_input": "2023-06-19T18:40:52.795752Z",
     "iopub.status.busy": "2023-06-19T18:40:52.795327Z",
     "iopub.status.idle": "2023-06-19T18:40:52.802242Z",
     "shell.execute_reply": "2023-06-19T18:40:52.801214Z"
    },
    "id": "dviLdrVH36vz",
    "outputId": "1369e9ac-d6ac-48ae-aea3-0215287b546e",
    "papermill": {
     "duration": 0.028595,
     "end_time": "2023-06-19T18:40:52.804647",
     "exception": false,
     "start_time": "2023-06-19T18:40:52.776052",
     "status": "completed"
    },
    "tags": []
   },
   "outputs": [
    {
     "data": {
      "text/plain": [
       "7.190539677251235"
      ]
     },
     "execution_count": 30,
     "metadata": {},
     "output_type": "execute_result"
    }
   ],
   "source": [
    "mean_absolute_error(y_test,y_pred)"
   ]
  },
  {
   "cell_type": "code",
   "execution_count": 31,
   "id": "fbc2afcd",
   "metadata": {
    "execution": {
     "iopub.execute_input": "2023-06-19T18:40:52.843737Z",
     "iopub.status.busy": "2023-06-19T18:40:52.843300Z",
     "iopub.status.idle": "2023-06-19T18:40:52.850862Z",
     "shell.execute_reply": "2023-06-19T18:40:52.849887Z"
    },
    "id": "mwfHTPeP4BJK",
    "outputId": "da46bf88-b1a6-4641-ee85-1bda8ebd96bf",
    "papermill": {
     "duration": 0.030071,
     "end_time": "2023-06-19T18:40:52.853139",
     "exception": false,
     "start_time": "2023-06-19T18:40:52.823068",
     "status": "completed"
    },
    "tags": []
   },
   "outputs": [
    {
     "data": {
      "text/plain": [
       "0.6807245170563927"
      ]
     },
     "execution_count": 31,
     "metadata": {},
     "output_type": "execute_result"
    }
   ],
   "source": [
    "r2_score(y_test,y_pred)"
   ]
  },
  {
   "cell_type": "markdown",
   "id": "ad4ed03b",
   "metadata": {
    "id": "rIZkBa4p4M7h",
    "papermill": {
     "duration": 0.017899,
     "end_time": "2023-06-19T18:40:52.889551",
     "exception": false,
     "start_time": "2023-06-19T18:40:52.871652",
     "status": "completed"
    },
    "tags": []
   },
   "source": [
    "GET VISUALIZATION OF ACTUAL VS PREDICTED RESULTS"
   ]
  },
  {
   "cell_type": "code",
   "execution_count": 32,
   "id": "afa90544",
   "metadata": {
    "execution": {
     "iopub.execute_input": "2023-06-19T18:40:52.927740Z",
     "iopub.status.busy": "2023-06-19T18:40:52.927301Z",
     "iopub.status.idle": "2023-06-19T18:40:53.235596Z",
     "shell.execute_reply": "2023-06-19T18:40:53.234473Z"
    },
    "id": "4X6Z4mqQ4UPx",
    "outputId": "f5b64314-568c-4c25-f7f4-45669eb1387c",
    "papermill": {
     "duration": 0.33079,
     "end_time": "2023-06-19T18:40:53.238486",
     "exception": false,
     "start_time": "2023-06-19T18:40:52.907696",
     "status": "completed"
    },
    "tags": []
   },
   "outputs": [
    {
     "data": {
      "image/png": "[encoded data removed]",
      "text/plain": [
       "<Figure size 640x480 with 1 Axes>"
      ]
     },
     "metadata": {},
     "output_type": "display_data"
    }
   ],
   "source": [
    "import matplotlib.pyplot as plt\n",
    "plt.scatter(y_test,y_pred)\n",
    "plt.xlabel(\"Actual\")\n",
    "plt.ylabel(\"Predicted\")\n",
    "plt.title(\"Actual Vs Predicted\")\n",
    "plt.show()"
   ]
  },
  {
   "cell_type": "markdown",
   "id": "4f93d3ab",
   "metadata": {
    "id": "Fws8JevS46-H",
    "papermill": {
     "duration": 0.018546,
     "end_time": "2023-06-19T18:40:53.276596",
     "exception": false,
     "start_time": "2023-06-19T18:40:53.258050",
     "status": "completed"
    },
    "tags": []
   },
   "source": [
    "GET FUTURE PREDICTIONS"
   ]
  },
  {
   "cell_type": "code",
   "execution_count": 33,
   "id": "4cb21533",
   "metadata": {
    "execution": {
     "iopub.execute_input": "2023-06-19T18:40:53.316256Z",
     "iopub.status.busy": "2023-06-19T18:40:53.315839Z",
     "iopub.status.idle": "2023-06-19T18:40:53.321398Z",
     "shell.execute_reply": "2023-06-19T18:40:53.320367Z"
    },
    "id": "BbIK8lV25GCZ",
    "papermill": {
     "duration": 0.028102,
     "end_time": "2023-06-19T18:40:53.323662",
     "exception": false,
     "start_time": "2023-06-19T18:40:53.295560",
     "status": "completed"
    },
    "tags": []
   },
   "outputs": [],
   "source": [
    "X_new = df.sample(1)"
   ]
  },
  {
   "cell_type": "code",
   "execution_count": 34,
   "id": "af58d562",
   "metadata": {
    "execution": {
     "iopub.execute_input": "2023-06-19T18:40:53.363390Z",
     "iopub.status.busy": "2023-06-19T18:40:53.363005Z",
     "iopub.status.idle": "2023-06-19T18:40:53.373307Z",
     "shell.execute_reply": "2023-06-19T18:40:53.372235Z"
    },
    "id": "_ooQrsB_5PBQ",
    "outputId": "01193079-f793-4ccc-980c-1d1b7d6b4bfd",
    "papermill": {
     "duration": 0.032962,
     "end_time": "2023-06-19T18:40:53.375612",
     "exception": false,
     "start_time": "2023-06-19T18:40:53.342650",
     "status": "completed"
    },
    "tags": []
   },
   "outputs": [
    {
     "data": {
      "text/html": [
       "<div>\n",
       "<style scoped>\n",
       "    .dataframe tbody tr th:only-of-type {\n",
       "        vertical-align: middle;\n",
       "    }\n",
       "\n",
       "    .dataframe tbody tr th {\n",
       "        vertical-align: top;\n",
       "    }\n",
       "\n",
       "    .dataframe thead th {\n",
       "        text-align: right;\n",
       "    }\n",
       "</style>\n",
       "<table border=\"1\" class=\"dataframe\">\n",
       "  <thead>\n",
       "    <tr style=\"text-align: right;\">\n",
       "      <th></th>\n",
       "      <th>Motor</th>\n",
       "      <th>Screw</th>\n",
       "      <th>Pgain</th>\n",
       "      <th>Vgain</th>\n",
       "      <th>Class</th>\n",
       "    </tr>\n",
       "  </thead>\n",
       "  <tbody>\n",
       "    <tr>\n",
       "      <th>112</th>\n",
       "      <td>2</td>\n",
       "      <td>3</td>\n",
       "      <td>6</td>\n",
       "      <td>5</td>\n",
       "      <td>9</td>\n",
       "    </tr>\n",
       "  </tbody>\n",
       "</table>\n",
       "</div>"
      ],
      "text/plain": [
       "     Motor  Screw  Pgain  Vgain  Class\n",
       "112      2      3      6      5      9"
      ]
     },
     "execution_count": 34,
     "metadata": {},
     "output_type": "execute_result"
    }
   ],
   "source": [
    "X_new"
   ]
  },
  {
   "cell_type": "code",
   "execution_count": 35,
   "id": "d4373021",
   "metadata": {
    "execution": {
     "iopub.execute_input": "2023-06-19T18:40:53.416181Z",
     "iopub.status.busy": "2023-06-19T18:40:53.415578Z",
     "iopub.status.idle": "2023-06-19T18:40:53.421138Z",
     "shell.execute_reply": "2023-06-19T18:40:53.420401Z"
    },
    "id": "fai_neJa5gIg",
    "outputId": "e773c0c7-8c24-4845-b7d7-ddae6f0e87d4",
    "papermill": {
     "duration": 0.02842,
     "end_time": "2023-06-19T18:40:53.423242",
     "exception": false,
     "start_time": "2023-06-19T18:40:53.394822",
     "status": "completed"
    },
    "tags": []
   },
   "outputs": [
    {
     "data": {
      "text/plain": [
       "(1, 5)"
      ]
     },
     "execution_count": 35,
     "metadata": {},
     "output_type": "execute_result"
    }
   ],
   "source": [
    "X_new.shape"
   ]
  },
  {
   "cell_type": "code",
   "execution_count": 36,
   "id": "6d9b9c78",
   "metadata": {
    "execution": {
     "iopub.execute_input": "2023-06-19T18:40:53.464083Z",
     "iopub.status.busy": "2023-06-19T18:40:53.463481Z",
     "iopub.status.idle": "2023-06-19T18:40:53.468374Z",
     "shell.execute_reply": "2023-06-19T18:40:53.467661Z"
    },
    "id": "vSEodFJq5kMv",
    "papermill": {
     "duration": 0.027833,
     "end_time": "2023-06-19T18:40:53.470506",
     "exception": false,
     "start_time": "2023-06-19T18:40:53.442673",
     "status": "completed"
    },
    "tags": []
   },
   "outputs": [],
   "source": [
    "X_new = X_new.drop('Class',axis=1)"
   ]
  },
  {
   "cell_type": "code",
   "execution_count": 37,
   "id": "7026ad6f",
   "metadata": {
    "execution": {
     "iopub.execute_input": "2023-06-19T18:40:53.511272Z",
     "iopub.status.busy": "2023-06-19T18:40:53.510694Z",
     "iopub.status.idle": "2023-06-19T18:40:53.519606Z",
     "shell.execute_reply": "2023-06-19T18:40:53.518682Z"
    },
    "id": "SXyftgsj5wXP",
    "outputId": "c1256172-e82c-4d10-d3cf-7f7aa2ae4bba",
    "papermill": {
     "duration": 0.032066,
     "end_time": "2023-06-19T18:40:53.521928",
     "exception": false,
     "start_time": "2023-06-19T18:40:53.489862",
     "status": "completed"
    },
    "tags": []
   },
   "outputs": [
    {
     "data": {
      "text/html": [
       "<div>\n",
       "<style scoped>\n",
       "    .dataframe tbody tr th:only-of-type {\n",
       "        vertical-align: middle;\n",
       "    }\n",
       "\n",
       "    .dataframe tbody tr th {\n",
       "        vertical-align: top;\n",
       "    }\n",
       "\n",
       "    .dataframe thead th {\n",
       "        text-align: right;\n",
       "    }\n",
       "</style>\n",
       "<table border=\"1\" class=\"dataframe\">\n",
       "  <thead>\n",
       "    <tr style=\"text-align: right;\">\n",
       "      <th></th>\n",
       "      <th>Motor</th>\n",
       "      <th>Screw</th>\n",
       "      <th>Pgain</th>\n",
       "      <th>Vgain</th>\n",
       "    </tr>\n",
       "  </thead>\n",
       "  <tbody>\n",
       "    <tr>\n",
       "      <th>112</th>\n",
       "      <td>2</td>\n",
       "      <td>3</td>\n",
       "      <td>6</td>\n",
       "      <td>5</td>\n",
       "    </tr>\n",
       "  </tbody>\n",
       "</table>\n",
       "</div>"
      ],
      "text/plain": [
       "     Motor  Screw  Pgain  Vgain\n",
       "112      2      3      6      5"
      ]
     },
     "execution_count": 37,
     "metadata": {},
     "output_type": "execute_result"
    }
   ],
   "source": [
    "X_new"
   ]
  },
  {
   "cell_type": "code",
   "execution_count": 38,
   "id": "38ac0322",
   "metadata": {
    "execution": {
     "iopub.execute_input": "2023-06-19T18:40:53.563522Z",
     "iopub.status.busy": "2023-06-19T18:40:53.562925Z",
     "iopub.status.idle": "2023-06-19T18:40:53.568713Z",
     "shell.execute_reply": "2023-06-19T18:40:53.567738Z"
    },
    "id": "H6Gl0TZ252Zv",
    "outputId": "ca2d9eb9-2d8b-4db9-c519-532fdf7829af",
    "papermill": {
     "duration": 0.029396,
     "end_time": "2023-06-19T18:40:53.571200",
     "exception": false,
     "start_time": "2023-06-19T18:40:53.541804",
     "status": "completed"
    },
    "tags": []
   },
   "outputs": [
    {
     "data": {
      "text/plain": [
       "(1, 4)"
      ]
     },
     "execution_count": 38,
     "metadata": {},
     "output_type": "execute_result"
    }
   ],
   "source": [
    "X_new.shape"
   ]
  },
  {
   "cell_type": "code",
   "execution_count": 39,
   "id": "bfaa9e1e",
   "metadata": {
    "execution": {
     "iopub.execute_input": "2023-06-19T18:40:53.613856Z",
     "iopub.status.busy": "2023-06-19T18:40:53.613458Z",
     "iopub.status.idle": "2023-06-19T18:40:53.620268Z",
     "shell.execute_reply": "2023-06-19T18:40:53.619202Z"
    },
    "id": "8DRNzJVw557u",
    "papermill": {
     "duration": 0.03168,
     "end_time": "2023-06-19T18:40:53.622719",
     "exception": false,
     "start_time": "2023-06-19T18:40:53.591039",
     "status": "completed"
    },
    "tags": []
   },
   "outputs": [],
   "source": [
    "y_pred_new = lr.predict(X_new)"
   ]
  },
  {
   "cell_type": "code",
   "execution_count": 40,
   "id": "eb3d7064",
   "metadata": {
    "execution": {
     "iopub.execute_input": "2023-06-19T18:40:53.664585Z",
     "iopub.status.busy": "2023-06-19T18:40:53.664046Z",
     "iopub.status.idle": "2023-06-19T18:40:53.671146Z",
     "shell.execute_reply": "2023-06-19T18:40:53.670084Z"
    },
    "id": "WX_nxYJ_6EIP",
    "outputId": "ca0996be-f597-4fdd-9091-bb6035fd84cf",
    "papermill": {
     "duration": 0.030713,
     "end_time": "2023-06-19T18:40:53.673339",
     "exception": false,
     "start_time": "2023-06-19T18:40:53.642626",
     "status": "completed"
    },
    "tags": []
   },
   "outputs": [
    {
     "data": {
      "text/plain": [
       "array([1.61148792])"
      ]
     },
     "execution_count": 40,
     "metadata": {},
     "output_type": "execute_result"
    }
   ],
   "source": [
    "y_pred_new"
   ]
  }
 ],
 "metadata": {
  "kernelspec": {
   "display_name": "Python 3",
   "language": "python",
   "name": "python3"
  },
  "language_info": {
   "codemirror_mode": {
    "name": "ipython",
    "version": 3
   },
   "file_extension": ".py",
   "mimetype": "text/x-python",
   "name": "python",
   "nbconvert_exporter": "python",
   "pygments_lexer": "ipython3",
   "version": "3.10.10"
  },
  "papermill": {
   "default_parameters": {},
   "duration": 17.445895,
   "end_time": "2023-06-19T18:40:54.717106",
   "environment_variables": {},
   "exception": null,
   "input_path": "__notebook__.ipynb",
   "output_path": "__notebook__.ipynb",
   "parameters": {},
   "start_time": "2023-06-19T18:40:37.271211",
   "version": "2.4.0"
  }
 },
 "nbformat": 4,
 "nbformat_minor": 5
}
